{
 "cells": [
  {
   "cell_type": "code",
   "execution_count": 1,
   "metadata": {},
   "outputs": [
    {
     "name": "stderr",
     "output_type": "stream",
     "text": [
      "Using TensorFlow backend.\n"
     ]
    }
   ],
   "source": [
    "from model import classic_model, losses, dot_prod_attention\n",
    "from data import data_generation, batch_creator, gp_kernels\n",
    "from keras.callbacks import ModelCheckpoint\n",
    "from helpers import helpers, masks, metrics\n",
    "import matplotlib.pyplot as plt\n",
    "import tensorflow_addons as tfa\n",
    "from inference import infer\n",
    "import tensorflow as tf\n",
    "import numpy as np\n",
    "import matplotlib \n",
    "import time\n",
    "import keras\n",
    "plt.style.use('ggplot')"
   ]
  },
  {
   "cell_type": "code",
   "execution_count": 2,
   "metadata": {},
   "outputs": [],
   "source": [
    "import pandas as pd"
   ]
  },
  {
   "cell_type": "code",
   "execution_count": 3,
   "metadata": {},
   "outputs": [],
   "source": [
    "attributes = pd.read_csv('/Users/omernivron/Downloads/attibutes.csv')"
   ]
  },
  {
   "cell_type": "code",
   "execution_count": 7,
   "metadata": {},
   "outputs": [],
   "source": [
    "attributes_numeric = attributes[[#'gauge_id', \n",
    "               'p_mean', 'pet_mean', 'p_seasonality', 'frac_snow',\n",
    "               'aridity', 'high_prec_freq', 'high_prec_dur',\n",
    "                #'high_prec_timing',\n",
    "               'low_prec_freq', 'low_prec_dur',\n",
    "                #'low_prec_timing', 'geol_1st_class', 'glim_1st_class_frac', 'geol_2nd_class', 'glim_2nd_class_frac',\n",
    "               'carbonate_rocks_frac', #'geol_porostiy',\n",
    "                'geol_permeability',\n",
    "                #'q_mean','runoff_ratio', 'slope_fdc', 'baseflow_index', 'stream_elas', 'q5',\n",
    "               #'q95', 'high_q_freq', 'high_q_dur', 'low_q_freq', 'low_q_dur',\n",
    "               #'zero_q_freq', 'hfd_mean', 'huc_02', 'gauge_name',\n",
    "               'soil_depth_pelletier', 'soil_depth_statsgo', 'soil_porosity','soil_conductivity',\n",
    "                'max_water_content', 'sand_frac', 'silt_frac', 'clay_frac',\n",
    "                #'water_frac', 'organic_frac', 'other_frac',\n",
    "                #'gauge_lat','gauge_lon',\n",
    "                'elev_mean', 'slope_mean',\n",
    "                #'area_gages2',\n",
    "                'area_geospa_fabric',\n",
    "                'frac_forest', 'lai_max', 'lai_diff', 'gvf_max','gvf_diff',\n",
    "                #'dom_land_cover_frac', 'dom_land_cover', 'root_depth_50','root_depth_99', 'hru08'\n",
    "                ]]"
   ]
  },
  {
   "cell_type": "code",
   "execution_count": 9,
   "metadata": {
    "collapsed": true
   },
   "outputs": [
    {
     "name": "stdout",
     "output_type": "stream",
     "text": [
      "<class 'pandas.core.frame.DataFrame'>\n",
      "RangeIndex: 671 entries, 0 to 670\n",
      "Data columns (total 27 columns):\n",
      "p_mean                  671 non-null float64\n",
      "pet_mean                671 non-null float64\n",
      "p_seasonality           671 non-null float64\n",
      "frac_snow               671 non-null float64\n",
      "aridity                 671 non-null float64\n",
      "high_prec_freq          671 non-null float64\n",
      "high_prec_dur           671 non-null float64\n",
      "low_prec_freq           671 non-null float64\n",
      "low_prec_dur            671 non-null float64\n",
      "carbonate_rocks_frac    671 non-null float64\n",
      "geol_permeability       671 non-null float64\n",
      "soil_depth_pelletier    671 non-null float64\n",
      "soil_depth_statsgo      671 non-null float64\n",
      "soil_porosity           671 non-null float64\n",
      "soil_conductivity       671 non-null float64\n",
      "max_water_content       671 non-null float64\n",
      "sand_frac               671 non-null float64\n",
      "silt_frac               671 non-null float64\n",
      "clay_frac               671 non-null float64\n",
      "elev_mean               671 non-null float64\n",
      "slope_mean              671 non-null float64\n",
      "area_geospa_fabric      671 non-null float64\n",
      "frac_forest             671 non-null float64\n",
      "lai_max                 671 non-null float64\n",
      "lai_diff                671 non-null float64\n",
      "gvf_max                 671 non-null float64\n",
      "gvf_diff                671 non-null float64\n",
      "dtypes: float64(27)\n",
      "memory usage: 141.7 KB\n"
     ]
    }
   ],
   "source": [
    "attributes_numeric.info()"
   ]
  },
  {
   "cell_type": "code",
   "execution_count": 21,
   "metadata": {},
   "outputs": [],
   "source": [
    "selected_basins = pd.read_csv('/Users/omernivron/Downloads/basin_list.txt', header=None)"
   ]
  },
  {
   "cell_type": "code",
   "execution_count": 27,
   "metadata": {},
   "outputs": [],
   "source": [
    "df = pd.read_csv('/Users/omernivron/Downloads/daymet_data_seed05.csv')"
   ]
  },
  {
   "cell_type": "code",
   "execution_count": 28,
   "metadata": {},
   "outputs": [
    {
     "data": {
      "text/html": [
       "<div>\n",
       "<style scoped>\n",
       "    .dataframe tbody tr th:only-of-type {\n",
       "        vertical-align: middle;\n",
       "    }\n",
       "\n",
       "    .dataframe tbody tr th {\n",
       "        vertical-align: top;\n",
       "    }\n",
       "\n",
       "    .dataframe thead th {\n",
       "        text-align: right;\n",
       "    }\n",
       "</style>\n",
       "<table border=\"1\" class=\"dataframe\">\n",
       "  <thead>\n",
       "    <tr style=\"text-align: right;\">\n",
       "      <th></th>\n",
       "      <th>dayl(s)</th>\n",
       "      <th>prcp(mm/day)</th>\n",
       "      <th>srad(W/m2)</th>\n",
       "      <th>swe(mm)</th>\n",
       "      <th>tmax(C)</th>\n",
       "      <th>tmin(C)</th>\n",
       "      <th>vp(Pa)</th>\n",
       "      <th>basin</th>\n",
       "      <th>YR</th>\n",
       "      <th>MNTH</th>\n",
       "      <th>...</th>\n",
       "      <th>seed</th>\n",
       "      <th>DATE</th>\n",
       "      <th>DOY</th>\n",
       "      <th>doy_sin</th>\n",
       "      <th>doy_cos</th>\n",
       "      <th>hru08</th>\n",
       "      <th>hru02</th>\n",
       "      <th>hru04</th>\n",
       "      <th>id</th>\n",
       "      <th>id_lag</th>\n",
       "    </tr>\n",
       "  </thead>\n",
       "  <tbody>\n",
       "    <tr>\n",
       "      <td>0</td>\n",
       "      <td>40780.77</td>\n",
       "      <td>3.10</td>\n",
       "      <td>192.61</td>\n",
       "      <td>0.0</td>\n",
       "      <td>10.05</td>\n",
       "      <td>2.11</td>\n",
       "      <td>711.33</td>\n",
       "      <td>1013500</td>\n",
       "      <td>1980</td>\n",
       "      <td>10</td>\n",
       "      <td>...</td>\n",
       "      <td>5</td>\n",
       "      <td>1980-10-01</td>\n",
       "      <td>275</td>\n",
       "      <td>-0.017062</td>\n",
       "      <td>0.001896</td>\n",
       "      <td>hru_01013500</td>\n",
       "      <td>hru_01</td>\n",
       "      <td>hru_0101</td>\n",
       "      <td>hru_01013500_1980</td>\n",
       "      <td>hru_01013500_1979</td>\n",
       "    </tr>\n",
       "    <tr>\n",
       "      <td>1</td>\n",
       "      <td>40621.08</td>\n",
       "      <td>4.24</td>\n",
       "      <td>206.31</td>\n",
       "      <td>0.0</td>\n",
       "      <td>15.82</td>\n",
       "      <td>5.24</td>\n",
       "      <td>898.61</td>\n",
       "      <td>1013500</td>\n",
       "      <td>1980</td>\n",
       "      <td>10</td>\n",
       "      <td>...</td>\n",
       "      <td>5</td>\n",
       "      <td>1980-10-02</td>\n",
       "      <td>276</td>\n",
       "      <td>-0.007624</td>\n",
       "      <td>0.015382</td>\n",
       "      <td>hru_01013500</td>\n",
       "      <td>hru_01</td>\n",
       "      <td>hru_0101</td>\n",
       "      <td>hru_01013500_1980</td>\n",
       "      <td>hru_01013500_1979</td>\n",
       "    </tr>\n",
       "    <tr>\n",
       "      <td>2</td>\n",
       "      <td>40435.18</td>\n",
       "      <td>8.02</td>\n",
       "      <td>165.35</td>\n",
       "      <td>0.0</td>\n",
       "      <td>15.86</td>\n",
       "      <td>7.81</td>\n",
       "      <td>1064.86</td>\n",
       "      <td>1013500</td>\n",
       "      <td>1980</td>\n",
       "      <td>10</td>\n",
       "      <td>...</td>\n",
       "      <td>5</td>\n",
       "      <td>1980-10-03</td>\n",
       "      <td>277</td>\n",
       "      <td>0.008824</td>\n",
       "      <td>0.014726</td>\n",
       "      <td>hru_01013500</td>\n",
       "      <td>hru_01</td>\n",
       "      <td>hru_0101</td>\n",
       "      <td>hru_01013500_1980</td>\n",
       "      <td>hru_01013500_1979</td>\n",
       "    </tr>\n",
       "    <tr>\n",
       "      <td>3</td>\n",
       "      <td>40089.56</td>\n",
       "      <td>15.27</td>\n",
       "      <td>159.78</td>\n",
       "      <td>0.0</td>\n",
       "      <td>11.10</td>\n",
       "      <td>3.66</td>\n",
       "      <td>794.18</td>\n",
       "      <td>1013500</td>\n",
       "      <td>1980</td>\n",
       "      <td>10</td>\n",
       "      <td>...</td>\n",
       "      <td>5</td>\n",
       "      <td>1980-10-04</td>\n",
       "      <td>278</td>\n",
       "      <td>0.017159</td>\n",
       "      <td>0.000531</td>\n",
       "      <td>hru_01013500</td>\n",
       "      <td>hru_01</td>\n",
       "      <td>hru_0101</td>\n",
       "      <td>hru_01013500_1980</td>\n",
       "      <td>hru_01013500_1979</td>\n",
       "    </tr>\n",
       "    <tr>\n",
       "      <td>4</td>\n",
       "      <td>40089.56</td>\n",
       "      <td>8.48</td>\n",
       "      <td>133.83</td>\n",
       "      <td>0.0</td>\n",
       "      <td>7.58</td>\n",
       "      <td>2.02</td>\n",
       "      <td>705.50</td>\n",
       "      <td>1013500</td>\n",
       "      <td>1980</td>\n",
       "      <td>10</td>\n",
       "      <td>...</td>\n",
       "      <td>5</td>\n",
       "      <td>1980-10-05</td>\n",
       "      <td>279</td>\n",
       "      <td>0.009718</td>\n",
       "      <td>-0.014152</td>\n",
       "      <td>hru_01013500</td>\n",
       "      <td>hru_01</td>\n",
       "      <td>hru_0101</td>\n",
       "      <td>hru_01013500_1980</td>\n",
       "      <td>hru_01013500_1979</td>\n",
       "    </tr>\n",
       "  </tbody>\n",
       "</table>\n",
       "<p>5 rows × 30 columns</p>\n",
       "</div>"
      ],
      "text/plain": [
       "    dayl(s)  prcp(mm/day)  srad(W/m2)  swe(mm)  tmax(C)  tmin(C)   vp(Pa)  \\\n",
       "0  40780.77          3.10      192.61      0.0    10.05     2.11   711.33   \n",
       "1  40621.08          4.24      206.31      0.0    15.82     5.24   898.61   \n",
       "2  40435.18          8.02      165.35      0.0    15.86     7.81  1064.86   \n",
       "3  40089.56         15.27      159.78      0.0    11.10     3.66   794.18   \n",
       "4  40089.56          8.48      133.83      0.0     7.58     2.02   705.50   \n",
       "\n",
       "     basin    YR  MNTH  ...  seed        DATE  DOY   doy_sin   doy_cos  \\\n",
       "0  1013500  1980    10  ...     5  1980-10-01  275 -0.017062  0.001896   \n",
       "1  1013500  1980    10  ...     5  1980-10-02  276 -0.007624  0.015382   \n",
       "2  1013500  1980    10  ...     5  1980-10-03  277  0.008824  0.014726   \n",
       "3  1013500  1980    10  ...     5  1980-10-04  278  0.017159  0.000531   \n",
       "4  1013500  1980    10  ...     5  1980-10-05  279  0.009718 -0.014152   \n",
       "\n",
       "          hru08   hru02     hru04                 id             id_lag  \n",
       "0  hru_01013500  hru_01  hru_0101  hru_01013500_1980  hru_01013500_1979  \n",
       "1  hru_01013500  hru_01  hru_0101  hru_01013500_1980  hru_01013500_1979  \n",
       "2  hru_01013500  hru_01  hru_0101  hru_01013500_1980  hru_01013500_1979  \n",
       "3  hru_01013500  hru_01  hru_0101  hru_01013500_1980  hru_01013500_1979  \n",
       "4  hru_01013500  hru_01  hru_0101  hru_01013500_1980  hru_01013500_1979  \n",
       "\n",
       "[5 rows x 30 columns]"
      ]
     },
     "execution_count": 28,
     "metadata": {},
     "output_type": "execute_result"
    }
   ],
   "source": [
    "df.head()"
   ]
  },
  {
   "cell_type": "code",
   "execution_count": 20,
   "metadata": {},
   "outputs": [],
   "source": [
    "list_to_drop = ['MNTH', 'DY', 'hru02', 'hru04', 'RAIM', 'TAIR', 'PET', 'ET', 'SWE', 'swe(mm)', 'PRCP', 'seed', 'id_lag', 'HR', 'dayl(s)', 'YR']"
   ]
  },
  {
   "cell_type": "code",
   "execution_count": 22,
   "metadata": {},
   "outputs": [
    {
     "name": "stdout",
     "output_type": "stream",
     "text": [
      "Length of dataframe for selected basin:  0\n",
      "Length of dataframe after dropping duplicates:  0\n"
     ]
    },
    {
     "name": "stderr",
     "output_type": "stream",
     "text": [
      "/Users/omernivron/opt/anaconda3/lib/python3.7/site-packages/pandas/core/frame.py:4102: SettingWithCopyWarning: \n",
      "A value is trying to be set on a copy of a slice from a DataFrame\n",
      "\n",
      "See the caveats in the documentation: http://pandas.pydata.org/pandas-docs/stable/user_guide/indexing.html#returning-a-view-versus-a-copy\n",
      "  errors=errors,\n"
     ]
    }
   ],
   "source": [
    "df = df[df['basin'].isin(selected_basins)]\n",
    "print(\"Length of dataframe for selected basin: \", len(df))\n",
    "df.drop(['MOD_RUN'], axis=1, inplace = True)\n",
    "df.drop_duplicates(inplace=True)\n",
    "print(\"Length of dataframe after dropping duplicates: \", len(df))\n",
    "df = df[df['OBS_RUN'] >= 0]\n"
   ]
  },
  {
   "cell_type": "code",
   "execution_count": 29,
   "metadata": {},
   "outputs": [],
   "source": [
    "df.drop(columns= list_to_drop, inplace=True)"
   ]
  },
  {
   "cell_type": "code",
   "execution_count": 31,
   "metadata": {},
   "outputs": [],
   "source": [
    "df.drop_duplicates(inplace=True)"
   ]
  },
  {
   "cell_type": "code",
   "execution_count": 32,
   "metadata": {},
   "outputs": [],
   "source": [
    "df.drop(['MOD_RUN'], axis=1, inplace = True)"
   ]
  },
  {
   "cell_type": "code",
   "execution_count": 33,
   "metadata": {},
   "outputs": [],
   "source": [
    "df1 = df[df['OBS_RUN'] >= 0]"
   ]
  },
  {
   "cell_type": "code",
   "execution_count": null,
   "metadata": {},
   "outputs": [],
   "source": []
  },
  {
   "cell_type": "code",
   "execution_count": 39,
   "metadata": {
    "collapsed": true
   },
   "outputs": [
    {
     "data": {
      "text/plain": [
       "0          1980\n",
       "1          1980\n",
       "2          1980\n",
       "3          1980\n",
       "4          1980\n",
       "           ... \n",
       "8236952    2014\n",
       "8236953    2014\n",
       "8236954    2014\n",
       "8236955    2014\n",
       "8236956    2014\n",
       "Name: YR, Length: 8230212, dtype: int64"
      ]
     },
     "execution_count": 39,
     "metadata": {},
     "output_type": "execute_result"
    }
   ],
   "source": [
    "df1['YR']"
   ]
  },
  {
   "cell_type": "code",
   "execution_count": null,
   "metadata": {},
   "outputs": [],
   "source": [
    "context_channels = ['OBS_RUN',\n",
    "                    'doy_cos','doy_sin',\n",
    "                    'prcp(mm/day)', \n",
    "                    'srad(W/m2)',  \n",
    "                    'tmax(C)',\n",
    "                    'tmin(C)', \n",
    "                    'vp(Pa)'] "
   ]
  }
 ],
 "metadata": {
  "kernelspec": {
   "display_name": "Python 3",
   "language": "python",
   "name": "python3"
  },
  "language_info": {
   "codemirror_mode": {
    "name": "ipython",
    "version": 3
   },
   "file_extension": ".py",
   "mimetype": "text/x-python",
   "name": "python",
   "nbconvert_exporter": "python",
   "pygments_lexer": "ipython3",
   "version": "3.7.4"
  }
 },
 "nbformat": 4,
 "nbformat_minor": 2
}
