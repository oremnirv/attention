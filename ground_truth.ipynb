{
 "cells": [
  {
   "cell_type": "code",
   "execution_count": 1,
   "metadata": {},
   "outputs": [],
   "source": [
    "from data import data_generation, data_picker, batch_creator, gp_kernels\n",
    "from helpers import metrics\n",
    "import sklearn.gaussian_process as gp \n",
    "import matplotlib.pyplot as plt\n",
    "import numpy as np\n",
    "import scipy\n",
    "plt.style.use('ggplot')\n",
    "\n",
    "%matplotlib inline"
   ]
  },
  {
   "cell_type": "code",
   "execution_count": 2,
   "metadata": {},
   "outputs": [],
   "source": [
    "extrapo = False"
   ]
  },
  {
   "cell_type": "code",
   "execution_count": 3,
   "metadata": {},
   "outputs": [],
   "source": [
    "if extrapo:\n",
    "    x = np.load('/Users/omernivron/Downloads/x_te_extrapo')\n",
    "    y = np.load('/Users/omernivron/Downloads/y_te_extrapo')\n",
    "else:\n",
    "    x = np.load('/Users/omernivron/Downloads/x_tr_interpo.npy')\n",
    "    y = np.load('/Users/omernivron/Downloads/y_tr_interpo.npy')"
   ]
  },
  {
   "cell_type": "code",
   "execution_count": 4,
   "metadata": {},
   "outputs": [],
   "source": [
    "# # GP independent sequence learning  \n",
    "# online = False; mse_metric = 0; r_sq_metric = 0; kuee_metric = 0\n",
    "# μ = []; σ = []\n",
    "# m = int(x.shape[0] / 10)\n",
    "# y_mean = np.mean(y[:m, :40])\n",
    "# y_te = y[:m, 40]\n",
    "# for j in range(0, m):\n",
    "#     λ=np.exp(-1); ν=1;\n",
    "#     kernel = ν**2 * gp.kernels.RBF(length_scale=λ) #+ gp.kernels.WhiteKernel(noise_level=σ)\n",
    "#     model = gp.GaussianProcessRegressor(kernel=kernel)\n",
    "#     x_tr =  x[j, :40].reshape(-1, 1); y_tr = y[j, :40].reshape(-1, 1)\n",
    "#     model.fit(x_tr, y_tr)   \n",
    "#     if online:\n",
    "#         pass\n",
    "#     else:\n",
    "#         μ_te, σ_te = model.predict(x[j, 40].reshape(-1, 1), return_std=True)\n",
    "#         μ.append(μ_te); σ.append(σ_te)\n",
    "\n",
    "#     kuee_metric += metrics.KUEE(y_te[j], μ_te, σ_te)\n",
    "    \n",
    "# mse_metric = metrics.mse(y_te, μ)\n",
    "# r_sq_metric = metrics.r_squared(y_te, μ, y_mean)\n",
    "# mse_metric *= (1 / m)\n",
    "# kuee_metric *= (1 / m)"
   ]
  },
  {
   "cell_type": "code",
   "execution_count": 5,
   "metadata": {},
   "outputs": [],
   "source": [
    "\n",
    "#     fig, axes = plt.subplots(1, 1, figsize=(8, 6))\n",
    "#     axes.set_ylim(-1, 1)\n",
    "#     axes.scatter(xx_tr, yy_tr, c = 'black')\n",
    "#         axes.scatter(xx_te, yy_te, c='purple', label = 'true y')\n",
    "#         axes.scatter(xx_te, μ_te, c='blue', label = 'predicted y')\n",
    "#         axes.errorbar(xx_te, μ_te, yerr = [ 2 * σ_te], c ='navy')\n",
    "#         axes.legend()\n",
    "\n",
    "#         plt.show()\n",
    "#         plt.close()"
   ]
  },
  {
   "cell_type": "code",
   "execution_count": 6,
   "metadata": {},
   "outputs": [],
   "source": [
    "idx = np.concatenate((np.random.choice(np.arange(0, 40), size = (40000, 5) , replace = True),\n",
    "                     np.random.choice(np.arange(40, 59), size = (40000, 1) , replace = True)), axis = 1)"
   ]
  },
  {
   "cell_type": "code",
   "execution_count": 7,
   "metadata": {},
   "outputs": [],
   "source": [
    "rows = np.repeat(np.arange(0, 3000, 1), 6).reshape(3000, 6)"
   ]
  },
  {
   "cell_type": "code",
   "execution_count": 8,
   "metadata": {},
   "outputs": [],
   "source": [
    "x = x[rows, idx[:3000, :]]; y = y[rows, idx[:3000, :]]"
   ]
  },
  {
   "cell_type": "code",
   "execution_count": null,
   "metadata": {
    "scrolled": false
   },
   "outputs": [],
   "source": [
    "# GP independent sequence learning  \n",
    "online = False; mse_metric = 0; r_sq_metric = 0; kuee_metric = 0\n",
    "m = int(x.shape[0])\n",
    "y_mean = np.mean(y[:m, :5])\n",
    "y_te = y[:m, 5]\n",
    "λ=np.exp(-1); ν=1;\n",
    "kernel = ν**2 * gp.kernels.RBF(length_scale=λ) #+ gp.kernels.WhiteKernel(noise_level=σ)\n",
    "model = gp.GaussianProcessRegressor(kernel=kernel)\n",
    "x_tr =  x[:, :5].reshape(-1, 1); y_tr = y[:, :5].reshape(-1, 1)\n",
    "model.fit(x_tr, y_tr)   \n",
    "μ_te, σ_te = model.predict(x[:, 5].reshape(-1, 1), return_std=True)\n",
    "kuee_metric = metrics.KUEE(y_te, μ_te, σ_te)\n",
    "mse_metric = metrics.mse(y_te, μ_te)\n",
    "r_sq_metric = metrics.r_squared(y_te, μ_te, y_mean)\n",
    "mse_metric *= (1 / m)\n",
    "kuee_metric *= (1 / m)"
   ]
  },
  {
   "cell_type": "code",
   "execution_count": 25,
   "metadata": {},
   "outputs": [
    {
     "data": {
      "text/plain": [
       "array([-0.06702726,  0.8412372 , -2.50708972, ...,  0.69480657,\n",
       "        0.88466094,  1.59990592])"
      ]
     },
     "execution_count": 25,
     "metadata": {},
     "output_type": "execute_result"
    }
   ],
   "source": [
    "y_te"
   ]
  },
  {
   "cell_type": "code",
   "execution_count": 27,
   "metadata": {},
   "outputs": [],
   "source": [
    "r_sq_metric = metrics.r_squared(y_te, μ, y_mean)"
   ]
  },
  {
   "cell_type": "code",
   "execution_count": 28,
   "metadata": {},
   "outputs": [
    {
     "data": {
      "text/plain": [
       "5038.124560611033"
      ]
     },
     "execution_count": 28,
     "metadata": {},
     "output_type": "execute_result"
    }
   ],
   "source": [
    "(mse_metric)"
   ]
  },
  {
   "cell_type": "code",
   "execution_count": 29,
   "metadata": {},
   "outputs": [
    {
     "data": {
      "text/plain": [
       "0.92825"
      ]
     },
     "execution_count": 29,
     "metadata": {},
     "output_type": "execute_result"
    }
   ],
   "source": [
    "kuee_metric"
   ]
  },
  {
   "cell_type": "code",
   "execution_count": 30,
   "metadata": {},
   "outputs": [
    {
     "data": {
      "text/plain": [
       "-4923.88316170636"
      ]
     },
     "execution_count": 30,
     "metadata": {},
     "output_type": "execute_result"
    }
   ],
   "source": [
    "r_sq_metric"
   ]
  },
  {
   "cell_type": "code",
   "execution_count": null,
   "metadata": {},
   "outputs": [],
   "source": []
  }
 ],
 "metadata": {
  "kernelspec": {
   "display_name": "Python 3",
   "language": "python",
   "name": "python3"
  },
  "language_info": {
   "codemirror_mode": {
    "name": "ipython",
    "version": 3
   },
   "file_extension": ".py",
   "mimetype": "text/x-python",
   "name": "python",
   "nbconvert_exporter": "python",
   "pygments_lexer": "ipython3",
   "version": "3.7.4"
  }
 },
 "nbformat": 4,
 "nbformat_minor": 2
}
