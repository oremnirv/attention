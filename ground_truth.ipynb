{
 "cells": [
  {
   "cell_type": "code",
   "execution_count": 1,
   "metadata": {},
   "outputs": [],
   "source": [
    "from data import data_generation, batch_creator, gp_kernels"
   ]
  },
  {
   "cell_type": "code",
   "execution_count": 64,
   "metadata": {},
   "outputs": [],
   "source": [
    "import matplotlib                       \n",
    "import scipy.io                        \n",
    "import sklearn.gaussian_process as gp   \n",
    "import requests\n",
    "import pandas as pd                          \n",
    "import itertools\n",
    "%matplotlib inline\n",
    "from time import time\n",
    "import scipy\n",
    "import numpy as np\n",
    "import sklearn"
   ]
  },
  {
   "cell_type": "code",
   "execution_count": 3,
   "metadata": {},
   "outputs": [],
   "source": [
    "pad_pos_tr, pad_pos_te, pad_y_fren_tr, pad_y_fren_te, _, df_te = data_generation.data_generator_for_gp_mimick_gpt(50000, gp_kernels.rbf_kernel)"
   ]
  },
  {
   "cell_type": "code",
   "execution_count": null,
   "metadata": {},
   "outputs": [],
   "source": [
    "gp.GaussianProcessRegressor.fit()"
   ]
  },
  {
   "cell_type": "code",
   "execution_count": 15,
   "metadata": {},
   "outputs": [],
   "source": [
    "a = np.array([[1, 2], [2, 6]])"
   ]
  },
  {
   "cell_type": "code",
   "execution_count": 38,
   "metadata": {},
   "outputs": [],
   "source": [
    "indices_tr = np.random.choice(np.arange(0, len(pad_pos_tr.reshape(-1)), 1), 10000)"
   ]
  },
  {
   "cell_type": "code",
   "execution_count": 39,
   "metadata": {},
   "outputs": [],
   "source": [
    "x_tr = pad_pos_tr.reshape(-1)[indices_tr]; y_tr = pad_y_fren_tr.reshape(-1)[indices_tr]"
   ]
  },
  {
   "cell_type": "code",
   "execution_count": 63,
   "metadata": {},
   "outputs": [],
   "source": [
    "x_te = pad_pos_te.reshape(-1)[:(59 * 100)]; y_te = pad_y_fren_te.reshape(-1)[:(59 * 100)]"
   ]
  },
  {
   "cell_type": "code",
   "execution_count": 10,
   "metadata": {},
   "outputs": [],
   "source": []
  },
  {
   "cell_type": "code",
   "execution_count": 53,
   "metadata": {},
   "outputs": [],
   "source": [
    "kernel = ν**2 * gp.kernels.RBF(length_scale=λ) + gp.kernels.WhiteKernel(noise_level=σ)"
   ]
  },
  {
   "cell_type": "code",
   "execution_count": 54,
   "metadata": {},
   "outputs": [],
   "source": [
    "model = gp.GaussianProcessRegressor(kernel=kernel)"
   ]
  },
  {
   "cell_type": "code",
   "execution_count": 70,
   "metadata": {},
   "outputs": [],
   "source": [
    "# Online GP sequence learning  \n",
    "online = False; mse = 0\n",
    "# μ = []; σ = []\n",
    "m = int(x_te.shape[0] / 59)\n",
    "for j in range(0, m):\n",
    "    λ=np.exp(-1); ν=1; σ=1\n",
    "    kernel = ν**2 * gp.kernels.RBF(length_scale=λ) + gp.kernels.WhiteKernel(noise_level=σ)\n",
    "    model = gp.GaussianProcessRegressor(kernel=kernel)\n",
    "    xx_tr =  x_tr.reshape(-1, 1)[:(40 + 59 * j)]; yy_tr = y_tr.reshape(-1, 1)[:(40 + 59 * j)]\n",
    "    model.fit(xx_tr, yy_tr)\n",
    "    if online:\n",
    "        pass\n",
    "    else: \n",
    "        xx_te = x_tr.reshape(-1, 1)[(40 + 59 * j):(59 + 59 * j)]\n",
    "        yy_te = y_te.reshape(-1, 1)[(40 + 59 * j):(59 + 59 * j)]\n",
    "        μ_te, σ_te = model.predict(xx_te , return_std=True)\n",
    "    \n",
    "    mse += (sum((yy_te - μ_te)**2) / 19)\n",
    "mse *= (1/m) "
   ]
  },
  {
   "cell_type": "code",
   "execution_count": 71,
   "metadata": {},
   "outputs": [
    {
     "data": {
      "text/plain": [
       "array([1.0973226])"
      ]
     },
     "execution_count": 71,
     "metadata": {},
     "output_type": "execute_result"
    }
   ],
   "source": [
    "mse"
   ]
  },
  {
   "cell_type": "code",
   "execution_count": null,
   "metadata": {},
   "outputs": [],
   "source": [
    "for i in range(59):\n",
    "        μ_c, σ_c =  model1.predict(x_te[i + j].reshape(-1, 1), return_std=True)\n",
    "        μ.append(μ_c); σ.append(σ_c)\n",
    "        xx_tr = np.concatenate((xx_tr, x_te[i +j].reshape(-1, 1)), axis = 0)\n",
    "        yy_tr = np.concatenate((yy_tr, y_te[i +j].reshape(-1, 1)), axis = 0)\n",
    "        model1.fit(xx_tr, yy_tr)"
   ]
  },
  {
   "cell_type": "code",
   "execution_count": null,
   "metadata": {},
   "outputs": [],
   "source": []
  },
  {
   "cell_type": "code",
   "execution_count": 55,
   "metadata": {},
   "outputs": [
    {
     "data": {
      "text/plain": [
       "GaussianProcessRegressor(alpha=1e-10, copy_X_train=True,\n",
       "                         kernel=1**2 * RBF(length_scale=0.368) + WhiteKernel(noise_level=1),\n",
       "                         n_restarts_optimizer=0, normalize_y=False,\n",
       "                         optimizer='fmin_l_bfgs_b', random_state=None)"
      ]
     },
     "execution_count": 55,
     "metadata": {},
     "output_type": "execute_result"
    }
   ],
   "source": [
    "model.fit(x_tr.reshape(-1, 1), y_tr.reshape(-1, 1))"
   ]
  },
  {
   "cell_type": "code",
   "execution_count": 56,
   "metadata": {
    "scrolled": false
   },
   "outputs": [],
   "source": [
    "μ_te, σ_te = model.predict(x_te.reshape(-1, 1), return_std=True)"
   ]
  },
  {
   "cell_type": "code",
   "execution_count": 59,
   "metadata": {},
   "outputs": [
    {
     "data": {
      "text/plain": [
       "array([1.01432648])"
      ]
     },
     "execution_count": 59,
     "metadata": {},
     "output_type": "execute_result"
    }
   ],
   "source": [
    "sum((μ_te -  y_te.reshape(-1, 1)) ** 2) / len(μ_te)"
   ]
  },
  {
   "cell_type": "code",
   "execution_count": 62,
   "metadata": {},
   "outputs": [
    {
     "data": {
      "text/plain": [
       "array([1.01301103])"
      ]
     },
     "execution_count": 62,
     "metadata": {},
     "output_type": "execute_result"
    }
   ],
   "source": [
    "sum((y_te.mean() -  y_te.reshape(-1, 1)) ** 2) / len(μ_te)"
   ]
  },
  {
   "cell_type": "code",
   "execution_count": null,
   "metadata": {},
   "outputs": [],
   "source": [
    "with matplotlib.rc_context({'figure.figsize': [10,2.5]}):\n",
    "    plt.scatter(x.squeeze(), y)\n",
    "    plt.scatter(x, μ_tr, c='black')"
   ]
  },
  {
   "cell_type": "code",
   "execution_count": null,
   "metadata": {},
   "outputs": [],
   "source": [
    "newx = np.linspace(-3, 3, 75)\n",
    "μ, σ = model1.predict(newx.reshape(-1, 1), return_std=True)"
   ]
  }
 ],
 "metadata": {
  "kernelspec": {
   "display_name": "Python 3",
   "language": "python",
   "name": "python3"
  },
  "language_info": {
   "codemirror_mode": {
    "name": "ipython",
    "version": 3
   },
   "file_extension": ".py",
   "mimetype": "text/x-python",
   "name": "python",
   "nbconvert_exporter": "python",
   "pygments_lexer": "ipython3",
   "version": "3.7.4"
  }
 },
 "nbformat": 4,
 "nbformat_minor": 2
}
